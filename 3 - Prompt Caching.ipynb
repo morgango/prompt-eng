{
 "cells": [
  {
   "cell_type": "code",
   "execution_count": 1,
   "metadata": {},
   "outputs": [],
   "source": [
    "from elasticsearch import Elasticsearch\n",
    "from elasticsearch_llm_cache import ElasticsearchLLMCache, ElasticsearchLLMFilter\n",
    "from elasticsearch.exceptions import NotFoundError\n",
    "\n",
    "# common libraries\n",
    "from dotenv import load_dotenv\n",
    "import os\n",
    "from os import environ\n",
    "import openai\n",
    "from icecream import ic\n",
    "\n",
    "# load our environment file\n",
    "load_dotenv()\n",
    "\n",
    "es_url = f\"https://{os.environ['elasticsearch_user']}:{os.environ['elasticsearch_pw']}@{os.environ['elasticsearch_host']}:{os.environ['elasticsearch_port']}\"\n",
    "# es_index= os.environ['elasticsearch_index']\n",
    "os.environ['OPENAI_API_KEY'] = os.environ['openai_api_key']\n",
    "open_api_key=os.environ['OPENAI_API_KEY']\n",
    "\n",
    "# define our API Key\n",
    "openai.api_key = os.getenv(\"openai_api_key\")\n"
   ]
  },
  {
   "cell_type": "code",
   "execution_count": 2,
   "metadata": {},
   "outputs": [],
   "source": [
    "es = Elasticsearch([es_url])\n",
    "\n",
    "cache_index_name = 'llm_cache_test'\n",
    "filter_index_name = 'llm_filter_test'\n",
    "model_id = 'sentence-transformers__msmarco-minilm-l-12-v3'\n",
    "\n",
    "# if es.ml.get_trained_models(model_id=model_id):\n",
    "#     ic(f'{model_id} exists.')\n",
    "# else:\n",
    "#     ic(f'{model_id} does not exist.')\n",
    "\n",
    "# if es.indices.exists(index=cache_index_name):\n",
    "#     ic(f'{cache_index_name} exists.')\n",
    "# else:\n",
    "#     ic(f'{cache_index_name} does not exist.')\n",
    "#     es.indices.create(index=cache_index_name)\n",
    "\n",
    "# if es.indices.exists(index=filter_index_name):\n",
    "#     ic(f'{filter_index_name} exists.')\n",
    "# else:\n",
    "#     ic(f'{filter_index_name} does not exist.')\n",
    "#     es.indices.create(index=filter_index_name)"
   ]
  },
  {
   "cell_type": "code",
   "execution_count": 3,
   "metadata": {},
   "outputs": [
    {
     "name": "stderr",
     "output_type": "stream",
     "text": [
      "INFO:elastic_transport.transport:HEAD https://demo-defc18.es.us-central1.gcp.cloud.es.io:9243/llm_cache_test [status:200 duration:0.395s]\n",
      "INFO:elastic_transport.transport:DELETE https://demo-defc18.es.us-central1.gcp.cloud.es.io:9243/llm_cache_test [status:200 duration:0.087s]\n",
      "ic| f'{cache_index_name} exists, deleting.': 'llm_cache_test exists, deleting.'\n",
      "INFO:elastic_transport.transport:HEAD https://demo-defc18.es.us-central1.gcp.cloud.es.io:9243/llm_filter_test [status:200 duration:0.032s]\n",
      "INFO:elastic_transport.transport:DELETE https://demo-defc18.es.us-central1.gcp.cloud.es.io:9243/llm_filter_test [status:200 duration:0.087s]\n",
      "ic| f'{filter_index_name} exists, deleting.': 'llm_filter_test exists, deleting.'\n",
      "INFO:elastic_transport.transport:HEAD https://demo-defc18.es.us-central1.gcp.cloud.es.io:9243/llm_cache_test [status:404 duration:0.032s]\n",
      "INFO:elastic_transport.transport:PUT https://demo-defc18.es.us-central1.gcp.cloud.es.io:9243/llm_cache_test [status:200 duration:0.137s]\n",
      "ic| f\"Index {self.index_name} created with {self.dims} dimensions.\": 'Index llm_cache_test created with 768 dimensions.'\n",
      "INFO:elastic_transport.transport:HEAD https://demo-defc18.es.us-central1.gcp.cloud.es.io:9243/llm_filter_test [status:404 duration:0.032s]\n",
      "INFO:elastic_transport.transport:PUT https://demo-defc18.es.us-central1.gcp.cloud.es.io:9243/llm_filter_test [status:200 duration:0.132s]\n",
      "ic| f\"Index {self.index_name} created with {self.dims} dimensions.\": 'Index llm_filter_test created with 768 dimensions.'\n"
     ]
    },
    {
     "data": {
      "text/plain": [
       "{'cache_index': 'llm_filter_test', 'created_new': True}"
      ]
     },
     "execution_count": 3,
     "metadata": {},
     "output_type": "execute_result"
    }
   ],
   "source": [
    "import os\n",
    "import time\n",
    "#print(os.environ['ELASTIC_CLOUD_ID'])\n",
    "#time.sleep(10)\n",
    "from elasticsearch import Elasticsearch\n",
    "\n",
    "from elasticsearch_llm_cache import (\n",
    "    ElasticsearchLLMCache,  \n",
    "    ElasticsearchLLMFilter,\n",
    ")\n",
    "\n",
    "from pprint import pprint\n",
    "import time\n",
    "\n",
    "es_client = es\n",
    "\n",
    "if es_client.indices.exists(index=cache_index_name):\n",
    "    es_client.indices.delete(index=cache_index_name)\n",
    "    ic(f'{cache_index_name} exists, deleting.')\n",
    "\n",
    "if es_client.indices.exists(index=filter_index_name):\n",
    "    es_client.indices.delete(index=filter_index_name)\n",
    "    ic(f'{filter_index_name} exists, deleting.')\n",
    "\n",
    "# es_client.indices.create(index=cache_index_name)\n",
    "# es_client.indices.create(index=filter_index_name)\n",
    "\n",
    "\n",
    "# Initialize your caching class\n",
    "cache = ElasticsearchLLMCache(es_client=es_client, index_name=cache_index_name, es_model_id=model_id, create_index=False)\n",
    "cache.create_index(dims=768)\n",
    "\n",
    "filter = ElasticsearchLLMFilter(es_client=es_client, index_name=filter_index_name, es_model_id=model_id, create_index=False)\n",
    "filter.create_index(dims=768)\n"
   ]
  },
  {
   "cell_type": "code",
   "execution_count": 5,
   "metadata": {},
   "outputs": [
    {
     "name": "stderr",
     "output_type": "stream",
     "text": [
      "INFO:elastic_transport.transport:POST https://demo-defc18.es.us-central1.gcp.cloud.es.io:9243/_ml/trained_models/sentence-transformers__msmarco-minilm-l-12-v3/_infer [status:200 duration:0.041s]\n",
      "INFO:elastic_transport.transport:POST https://demo-defc18.es.us-central1.gcp.cloud.es.io:9243/llm_filter_test/_search [status:200 duration:0.033s]\n",
      "INFO:elastic_transport.transport:POST https://demo-defc18.es.us-central1.gcp.cloud.es.io:9243/_ml/trained_models/sentence-transformers__msmarco-minilm-l-12-v3/_infer [status:200 duration:0.035s]\n",
      "INFO:elastic_transport.transport:POST https://demo-defc18.es.us-central1.gcp.cloud.es.io:9243/llm_filter_test/_doc [status:400 duration:0.035s]\n",
      "ERROR:elasticsearch_llm_cache:BadRequestError(400, 'document_parsing_exception', \"[1:7896] failed to parse: The [dense_vector] field [prompt_vector] in doc [document with id 'd2-5yYsBhjjTaImgxtNM'] has a different number of dimensions [384] than defined in the mapping [768]\")\n",
      "INFO:elastic_transport.transport:POST https://demo-defc18.es.us-central1.gcp.cloud.es.io:9243/_ml/trained_models/sentence-transformers__msmarco-minilm-l-12-v3/_infer [status:200 duration:0.035s]\n",
      "INFO:elastic_transport.transport:POST https://demo-defc18.es.us-central1.gcp.cloud.es.io:9243/llm_filter_test/_search [status:200 duration:0.033s]\n",
      "INFO:elastic_transport.transport:POST https://demo-defc18.es.us-central1.gcp.cloud.es.io:9243/_ml/trained_models/sentence-transformers__msmarco-minilm-l-12-v3/_infer [status:200 duration:0.035s]\n",
      "INFO:elastic_transport.transport:POST https://demo-defc18.es.us-central1.gcp.cloud.es.io:9243/llm_filter_test/_doc [status:400 duration:0.037s]\n",
      "ERROR:elasticsearch_llm_cache:BadRequestError(400, 'document_parsing_exception', \"[1:7896] failed to parse: The [dense_vector] field [prompt_vector] in doc [document with id 'iTu5yYsBIWOTmRMzxorZ'] has a different number of dimensions [384] than defined in the mapping [768]\")\n",
      "INFO:elastic_transport.transport:POST https://demo-defc18.es.us-central1.gcp.cloud.es.io:9243/_ml/trained_models/sentence-transformers__msmarco-minilm-l-12-v3/_infer [status:200 duration:0.035s]\n",
      "INFO:elastic_transport.transport:POST https://demo-defc18.es.us-central1.gcp.cloud.es.io:9243/llm_filter_test/_search [status:200 duration:0.033s]\n",
      "INFO:elastic_transport.transport:POST https://demo-defc18.es.us-central1.gcp.cloud.es.io:9243/_ml/trained_models/sentence-transformers__msmarco-minilm-l-12-v3/_infer [status:200 duration:0.035s]\n",
      "INFO:elastic_transport.transport:POST https://demo-defc18.es.us-central1.gcp.cloud.es.io:9243/llm_filter_test/_doc [status:400 duration:0.037s]\n",
      "ERROR:elasticsearch_llm_cache:BadRequestError(400, 'document_parsing_exception', \"[1:7912] failed to parse: The [dense_vector] field [prompt_vector] in doc [document with id 'iju5yYsBIWOTmRMzx4pp'] has a different number of dimensions [384] than defined in the mapping [768]\")\n",
      "INFO:elastic_transport.transport:POST https://demo-defc18.es.us-central1.gcp.cloud.es.io:9243/_ml/trained_models/sentence-transformers__msmarco-minilm-l-12-v3/_infer [status:200 duration:0.034s]\n",
      "INFO:elastic_transport.transport:POST https://demo-defc18.es.us-central1.gcp.cloud.es.io:9243/llm_filter_test/_search [status:200 duration:0.033s]\n",
      "INFO:elastic_transport.transport:POST https://demo-defc18.es.us-central1.gcp.cloud.es.io:9243/_ml/trained_models/sentence-transformers__msmarco-minilm-l-12-v3/_infer [status:200 duration:0.036s]\n",
      "INFO:elastic_transport.transport:POST https://demo-defc18.es.us-central1.gcp.cloud.es.io:9243/llm_filter_test/_doc [status:400 duration:0.036s]\n",
      "ERROR:elasticsearch_llm_cache:BadRequestError(400, 'document_parsing_exception', \"[1:7904] failed to parse: The [dense_vector] field [prompt_vector] in doc [document with id 'eG-5yYsBhjjTaImgx9P5'] has a different number of dimensions [384] than defined in the mapping [768]\")\n",
      "INFO:elastic_transport.transport:POST https://demo-defc18.es.us-central1.gcp.cloud.es.io:9243/_ml/trained_models/sentence-transformers__msmarco-minilm-l-12-v3/_infer [status:200 duration:0.035s]\n",
      "INFO:elastic_transport.transport:POST https://demo-defc18.es.us-central1.gcp.cloud.es.io:9243/llm_filter_test/_search [status:200 duration:0.034s]\n",
      "INFO:elastic_transport.transport:POST https://demo-defc18.es.us-central1.gcp.cloud.es.io:9243/_ml/trained_models/sentence-transformers__msmarco-minilm-l-12-v3/_infer [status:200 duration:0.034s]\n",
      "INFO:elastic_transport.transport:POST https://demo-defc18.es.us-central1.gcp.cloud.es.io:9243/llm_filter_test/_doc [status:400 duration:0.037s]\n",
      "ERROR:elasticsearch_llm_cache:BadRequestError(400, 'document_parsing_exception', \"[1:7918] failed to parse: The [dense_vector] field [prompt_vector] in doc [document with id 'izu5yYsBIWOTmRMzyIqI'] has a different number of dimensions [384] than defined in the mapping [768]\")\n",
      "INFO:elastic_transport.transport:POST https://demo-defc18.es.us-central1.gcp.cloud.es.io:9243/_ml/trained_models/sentence-transformers__msmarco-minilm-l-12-v3/_infer [status:200 duration:0.035s]\n",
      "INFO:elastic_transport.transport:POST https://demo-defc18.es.us-central1.gcp.cloud.es.io:9243/llm_filter_test/_search [status:200 duration:0.033s]\n",
      "INFO:elastic_transport.transport:POST https://demo-defc18.es.us-central1.gcp.cloud.es.io:9243/_ml/trained_models/sentence-transformers__msmarco-minilm-l-12-v3/_infer [status:200 duration:0.035s]\n",
      "INFO:elastic_transport.transport:POST https://demo-defc18.es.us-central1.gcp.cloud.es.io:9243/llm_filter_test/_doc [status:400 duration:0.035s]\n",
      "ERROR:elasticsearch_llm_cache:BadRequestError(400, 'document_parsing_exception', \"[1:7916] failed to parse: The [dense_vector] field [prompt_vector] in doc [document with id 'eW-5yYsBhjjTaImgydMW'] has a different number of dimensions [384] than defined in the mapping [768]\")\n",
      "INFO:elastic_transport.transport:POST https://demo-defc18.es.us-central1.gcp.cloud.es.io:9243/_ml/trained_models/sentence-transformers__msmarco-minilm-l-12-v3/_infer [status:200 duration:0.034s]\n",
      "INFO:elastic_transport.transport:POST https://demo-defc18.es.us-central1.gcp.cloud.es.io:9243/llm_filter_test/_search [status:200 duration:0.033s]\n",
      "INFO:elastic_transport.transport:POST https://demo-defc18.es.us-central1.gcp.cloud.es.io:9243/_ml/trained_models/sentence-transformers__msmarco-minilm-l-12-v3/_infer [status:200 duration:0.034s]\n",
      "INFO:elastic_transport.transport:POST https://demo-defc18.es.us-central1.gcp.cloud.es.io:9243/llm_filter_test/_doc [status:400 duration:0.035s]\n",
      "ERROR:elasticsearch_llm_cache:BadRequestError(400, 'document_parsing_exception', \"[1:7880] failed to parse: The [dense_vector] field [prompt_vector] in doc [document with id 'em-5yYsBhjjTaImgydOi'] has a different number of dimensions [384] than defined in the mapping [768]\")\n",
      "INFO:elastic_transport.transport:POST https://demo-defc18.es.us-central1.gcp.cloud.es.io:9243/_ml/trained_models/sentence-transformers__msmarco-minilm-l-12-v3/_infer [status:200 duration:0.035s]\n",
      "INFO:elastic_transport.transport:POST https://demo-defc18.es.us-central1.gcp.cloud.es.io:9243/llm_filter_test/_search [status:200 duration:0.033s]\n",
      "INFO:elastic_transport.transport:POST https://demo-defc18.es.us-central1.gcp.cloud.es.io:9243/_ml/trained_models/sentence-transformers__msmarco-minilm-l-12-v3/_infer [status:200 duration:0.035s]\n",
      "INFO:elastic_transport.transport:POST https://demo-defc18.es.us-central1.gcp.cloud.es.io:9243/llm_filter_test/_doc [status:400 duration:0.036s]\n",
      "ERROR:elasticsearch_llm_cache:BadRequestError(400, 'document_parsing_exception', \"[1:7905] failed to parse: The [dense_vector] field [prompt_vector] in doc [document with id 'e2-5yYsBhjjTaImgytMv'] has a different number of dimensions [384] than defined in the mapping [768]\")\n",
      "INFO:elastic_transport.transport:POST https://demo-defc18.es.us-central1.gcp.cloud.es.io:9243/_ml/trained_models/sentence-transformers__msmarco-minilm-l-12-v3/_infer [status:200 duration:0.035s]\n",
      "INFO:elastic_transport.transport:POST https://demo-defc18.es.us-central1.gcp.cloud.es.io:9243/llm_filter_test/_search [status:200 duration:0.033s]\n",
      "INFO:elastic_transport.transport:POST https://demo-defc18.es.us-central1.gcp.cloud.es.io:9243/_ml/trained_models/sentence-transformers__msmarco-minilm-l-12-v3/_infer [status:200 duration:0.034s]\n",
      "INFO:elastic_transport.transport:POST https://demo-defc18.es.us-central1.gcp.cloud.es.io:9243/llm_filter_test/_doc [status:400 duration:0.035s]\n",
      "ERROR:elasticsearch_llm_cache:BadRequestError(400, 'document_parsing_exception', \"[1:7884] failed to parse: The [dense_vector] field [prompt_vector] in doc [document with id 'fG-5yYsBhjjTaImgytO6'] has a different number of dimensions [384] than defined in the mapping [768]\")\n",
      "INFO:elastic_transport.transport:POST https://demo-defc18.es.us-central1.gcp.cloud.es.io:9243/llm_filter_test/_search [status:200 duration:0.032s]\n"
     ]
    },
    {
     "data": {
      "text/plain": [
       "{}"
      ]
     },
     "execution_count": 5,
     "metadata": {},
     "output_type": "execute_result"
    }
   ],
   "source": [
    "# filter.clear()\n",
    "subjects = ['sports', 'money', 'celebrities', 'basketball', 'soccer', 'tennis', 'skiing', 'animals', 'snakes']\n",
    "filter_contents = []\n",
    "\n",
    "for subject in subjects:\n",
    "    filter.add(prompt=subject, response=f\"Sorry, I can't talk about {subject}.\")\n",
    "\n",
    "# for subject in subjects:\n",
    "#     filter_contents.append({'prompt': subject, 'response': f\"Sorry, I can't talk about {subject}.\"})\n",
    "\n",
    "\n",
    "filter_results = filter.add_bulk(documents=filter_contents)\n",
    "filter.list()\n"
   ]
  },
  {
   "cell_type": "code",
   "execution_count": 32,
   "metadata": {},
   "outputs": [
    {
     "name": "stderr",
     "output_type": "stream",
     "text": [
      "ic| prompt_text: 'How do I code a linked list with python?'\n",
      "INFO:elastic_transport.transport:POST https://demo-defc18.es.us-central1.gcp.cloud.es.io:9243/_ml/trained_models/sentence-transformers__msmarco-minilm-l-12-v3/_infer [status:200 duration:0.069s]\n",
      "INFO:elastic_transport.transport:POST https://demo-defc18.es.us-central1.gcp.cloud.es.io:9243/llm_filter_test/_search [status:200 duration:0.034s]\n",
      "ic| hit['_score']: 1.1454514\n",
      "    hit['_source']['prompt']: 'snakes'\n",
      "    score: 0.1454514\n",
      "    threshold: 0.2\n",
      "ic| results: False\n"
     ]
    },
    {
     "data": {
      "text/plain": [
       "False"
      ]
     },
     "execution_count": 32,
     "metadata": {},
     "output_type": "execute_result"
    }
   ],
   "source": [
    "results = filter.query(prompt_text=\"How do I code a linked list with python?\", similarity_threshold=0.2, size=1)\n",
    "ic(results)\n"
   ]
  },
  {
   "cell_type": "code",
   "execution_count": null,
   "metadata": {},
   "outputs": [],
   "source": [
    "filter.query('I will vote for a democratic politician', similarity_threshold=0.25\n",
    "ic(results)"
   ]
  },
  {
   "cell_type": "code",
   "execution_count": null,
   "metadata": {},
   "outputs": [],
   "source": [
    "prompt = \"Hello, my name is Morgan?\"\n",
    "llm_response = \"I'm here to assist you!\"  # Assume this response is fetched from LLM\n",
    "\n",
    "cache_contents = [\n",
    "    {\"prompt\": \"Hello, my name is Morgan\", \"response\": \"Hi Morgan\"},\n",
    "    {\"prompt\": \"Hello, my name is Adam\", \"response\": \"Hi Adam\"},\n",
    "    {\"prompt\": \"Hello, my name is David\", \"response\": \"Hi David\"},\n",
    "    {\"prompt\": \"Hello, my name is Morgan\", \"response\": \"Hi Morgan\"},\n",
    "]\n",
    "\n",
    "cache_results = cache.add_bulk(documents=cache_contents)\n",
    "\n",
    "for item in cache_contents:\n",
    "    llm_response = cache.query(prompt_text=item['prompt'], )\n",
    "    ic(llm_response)\n",
    "\n"
   ]
  },
  {
   "cell_type": "code",
   "execution_count": null,
   "metadata": {},
   "outputs": [],
   "source": [
    "!eland_import_hub_model --url \"$es_url\" \\\n",
    "      --hub-model-id \"sentence-transformers/msmarco-MiniLM-L-12-v3\" \\\n",
    "      --task-type \"text_embedding\""
   ]
  },
  {
   "cell_type": "markdown",
   "metadata": {},
   "source": []
  },
  {
   "cell_type": "code",
   "execution_count": null,
   "metadata": {},
   "outputs": [],
   "source": []
  }
 ],
 "metadata": {
  "kernelspec": {
   "display_name": ".venv",
   "language": "python",
   "name": "python3"
  },
  "language_info": {
   "codemirror_mode": {
    "name": "ipython",
    "version": 3
   },
   "file_extension": ".py",
   "mimetype": "text/x-python",
   "name": "python",
   "nbconvert_exporter": "python",
   "pygments_lexer": "ipython3",
   "version": "3.10.11"
  }
 },
 "nbformat": 4,
 "nbformat_minor": 2
}
