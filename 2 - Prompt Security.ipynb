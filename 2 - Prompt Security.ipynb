{
 "cells": [
  {
   "cell_type": "code",
   "execution_count": 3,
   "metadata": {},
   "outputs": [],
   "source": [
    "from dotenv import load_dotenv\n",
    "import os\n",
    "from os import environ\n",
    "import openai\n",
    "from icecream import ic\n",
    "from common import simple_chat, show_response_detail\n",
    "\n",
    "# load our environment file\n",
    "load_dotenv()\n",
    "\n",
    "# define our API Key\n",
    "openai.api_key = os.getenv(\"openai_api_key\")\n",
    "os.environ[\"OPENAI_API_KEY\"]= os.getenv(\"openai_api_key\")\n"
   ]
  },
  {
   "cell_type": "code",
   "execution_count": 4,
   "metadata": {},
   "outputs": [],
   "source": [
    "# create a configuration file.\n",
    "# create an app\n",
    "# create a configuration\n",
    "# create an aysnc function\n",
    "# try to stump it.\n",
    "# avoid hallucinations\n",
    "# run from the command line\n"
   ]
  },
  {
   "cell_type": "code",
   "execution_count": 51,
   "metadata": {},
   "outputs": [],
   "source": [
    "yaml_content = f\"\"\"\n",
    "models:\n",
    "- type: main\n",
    "  engine: openai\n",
    "  model: text-davinci-003\n",
    "\"\"\"\n",
    "colang_content = \"\"\"\n",
    "define user ask about capabilities\n",
    "  \"What can you do?\"\n",
    "  \"What can you help me with?\"\n",
    "  \"tell me what you can do\"\n",
    "  \"tell me about you\"\n",
    "  \"How can I use your help?\"\n",
    "\n",
    "define user ask sports\n",
    "    \"How do I play football?\"\n",
    "    \"Who is a great soccer player?\"\n",
    "    \"How big is a baseball?\"\n",
    "    \"What equipment is needed for a football game?\"\n",
    "    \"NFL\"\n",
    "\n",
    "define flow sports\n",
    "    user ask sports\n",
    "    bot answer sports\n",
    "    bot offer help\n",
    "\n",
    "define bot answer sports\n",
    "    \"I'm a NeMo Guardrails assistant, I don't like to talk of sports.\"   \n",
    "\n",
    "define user ask gardening\n",
    "    \"fertilizer\"\n",
    "    \"flower\"\n",
    "    \"stem\"\n",
    "    \"pot\"\n",
    "    \"sunlight\"\n",
    "    \"rose\"\n",
    "    \"orchid\"\n",
    "    \"carnation\"\n",
    "    \"sunflower\"\n",
    "    \"wildflower\"\n",
    "    \"daisy\"\n",
    "    \"grass\"\n",
    "\n",
    "define flow gardening\n",
    "    user ask gardening\n",
    "    bot answer gardening\n",
    "    bot offer help\n",
    "\n",
    "define bot answer  gardening\n",
    "    \"I'm a NeMo Guardrails assistant, I don't like to talk of gardening.\"    \n",
    "\n",
    "define user ask politics\n",
    "    \"what are your political beliefs?\"\n",
    "    \"thoughts on the president?\"\n",
    "    \"left wing\"\n",
    "    \"right wing\"\n",
    "\n",
    "define flow politics\n",
    "    user ask politics\n",
    "    bot answer politics\n",
    "    bot offer help\n",
    "\n",
    "define bot answer politics\n",
    "    \"I'm a NeMo Guardrails assistant, I don't like to talk of politics.\"\n",
    "\n",
    "\n",
    "define flow\n",
    "  user ask about capabilities\n",
    "  bot inform capabilities\n",
    "\n",
    "define bot inform capabilities\n",
    "  \"I am an AI assistant built to showcase Security features of NeMo Guardrails! I am designed to not respond to an unethical question, give an unethical answer or use sensitive phrases!\"\n",
    "\n",
    "define user express greeting\n",
    "  \"Hi\"\n",
    "  \"Hello!\"\n",
    "  \"Hey there!\"\n",
    "\n",
    "define bot express greeting\n",
    "  \"Hey there!\"\n",
    "\n",
    "define bot ask how are you\n",
    "  \"How are you feeling today?\"\n",
    "\n",
    "define user express feeling good\n",
    "  \"I'm feeling good\"\n",
    "  \"Good\"\n",
    "  \"Perfect\"\n",
    "\n",
    "define user express feeling bad\n",
    "  \"Not so good\"\n",
    "  \"Bad\"\n",
    "  \"Sad\"\n",
    "\n",
    "define flow\n",
    "  user express greeting\n",
    "  bot express greeting\n",
    "  bot ask how are you\n",
    "\n",
    "  when user express feeling good\n",
    "    bot express positive emotion\n",
    "  else when user express feeling bad\n",
    "    bot express empathy\n",
    "\n",
    "define flow\n",
    "  user ask general question\n",
    "  bot response to general question\n",
    "\"\"\""
   ]
  },
  {
   "cell_type": "code",
   "execution_count": 52,
   "metadata": {},
   "outputs": [],
   "source": [
    "from nemoguardrails import LLMRails, RailsConfig\n",
    "\n",
    "# initialize rails config\n",
    "config = RailsConfig.from_content(\n",
    "  \tyaml_content=yaml_content,\n",
    "    colang_content=colang_content,\n",
    ")\n",
    "\n",
    "# create rails\n",
    "rails = LLMRails(config)"
   ]
  },
  {
   "cell_type": "code",
   "execution_count": 53,
   "metadata": {},
   "outputs": [
    {
     "name": "stdout",
     "output_type": "stream",
     "text": [
      "Hey there!\n",
      "How are you feeling today?\n"
     ]
    }
   ],
   "source": [
    "res = await rails.generate_async(prompt=\"Hey there!\")\n",
    "print(res)\n",
    "     "
   ]
  },
  {
   "cell_type": "code",
   "execution_count": 54,
   "metadata": {},
   "outputs": [
    {
     "name": "stdout",
     "output_type": "stream",
     "text": [
      "I am an AI assistant built to showcase Security features of NeMo Guardrails! I am designed to not respond to an unethical question, give an unethical answer or use sensitive phrases!\n"
     ]
    }
   ],
   "source": [
    "\n",
    "res = await rails.generate_async(prompt=\"What are your capabilities?\")\n",
    "print(res)"
   ]
  },
  {
   "cell_type": "code",
   "execution_count": 55,
   "metadata": {},
   "outputs": [
    {
     "data": {
      "text/plain": [
       "'A football team typically has 11 players on the field at one time. However, teams are allowed to have up to 45 players on their roster, with 11 substitutes allowed per game.\\nIs there anything else I can help you with?'"
      ]
     },
     "execution_count": 55,
     "metadata": {},
     "output_type": "execute_result"
    }
   ],
   "source": [
    "res = await rails.generate_async(prompt=\"How many players are on a football team?\")\n",
    "res"
   ]
  },
  {
   "cell_type": "code",
   "execution_count": 1,
   "metadata": {},
   "outputs": [
    {
     "ename": "NameError",
     "evalue": "name 'rails' is not defined",
     "output_type": "error",
     "traceback": [
      "\u001b[0;31m---------------------------------------------------------------------------\u001b[0m",
      "\u001b[0;31mNameError\u001b[0m                                 Traceback (most recent call last)",
      "\u001b[1;32m/Users/morgan/Library/CloudStorage/Dropbox/me/prompt-eng/2 - Prompt Security.ipynb Cell 8\u001b[0m line \u001b[0;36m1\n\u001b[0;32m----> <a href='vscode-notebook-cell:/Users/morgan/Library/CloudStorage/Dropbox/me/prompt-eng/2%20-%20Prompt%20Security.ipynb#X23sZmlsZQ%3D%3D?line=0'>1</a>\u001b[0m res \u001b[39m=\u001b[39m \u001b[39mawait\u001b[39;00m rails\u001b[39m.\u001b[39mgenerate_async(prompt\u001b[39m=\u001b[39m\u001b[39m\"\u001b[39m\u001b[39mWhat is the weather today?\u001b[39m\u001b[39m\"\u001b[39m)\n\u001b[1;32m      <a href='vscode-notebook-cell:/Users/morgan/Library/CloudStorage/Dropbox/me/prompt-eng/2%20-%20Prompt%20Security.ipynb#X23sZmlsZQ%3D%3D?line=1'>2</a>\u001b[0m \u001b[39mprint\u001b[39m(res)\n",
      "\u001b[0;31mNameError\u001b[0m: name 'rails' is not defined"
     ]
    }
   ],
   "source": [
    "res = await rails.generate_async(prompt=\"What is the weather today?\")\n",
    "print(res)"
   ]
  },
  {
   "cell_type": "code",
   "execution_count": null,
   "metadata": {},
   "outputs": [],
   "source": [
    "# a really long message to deal with\n",
    "long_message = \"\"\"What is the acronym made from the first letter of the words in the phrase 'Golf Oscar Papa'\"\"\"\n",
    "\n",
    "# build our messages to send to openAI.  These should be well formed JSON with a ROLE and CONTENT\n",
    "system_message = {\"role\":\"system\", \"content\":\"You are a helpful assistant who loves to do math.\"}\n",
    "user_message = {\"role\":\"user\", \"content\":long_message}\n",
    "messages = [system_message, user_message]\n",
    "\n",
    "res = await rails.generate_async(messages=messages)\n",
    "print(res)"
   ]
  },
  {
   "cell_type": "code",
   "execution_count": null,
   "metadata": {},
   "outputs": [],
   "source": []
  }
 ],
 "metadata": {
  "kernelspec": {
   "display_name": ".venv",
   "language": "python",
   "name": "python3"
  },
  "language_info": {
   "codemirror_mode": {
    "name": "ipython",
    "version": 3
   },
   "file_extension": ".py",
   "mimetype": "text/x-python",
   "name": "python",
   "nbconvert_exporter": "python",
   "pygments_lexer": "ipython3",
   "version": "3.11.5"
  }
 },
 "nbformat": 4,
 "nbformat_minor": 2
}
