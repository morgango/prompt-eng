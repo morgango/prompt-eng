{
 "cells": [
  {
   "cell_type": "markdown",
   "metadata": {},
   "source": [
    "These are common functions and libraries that we are going to need to use throughout the labs.\n",
    "There are two key files that we will work with:\n",
    "1. .env - a file containing configuration information that is loaded into environment variables.\n",
    "2. common.py - common python functions that we will use to learn about the API."
   ]
  },
  {
   "cell_type": "code",
   "execution_count": 1,
   "metadata": {},
   "outputs": [],
   "source": [
    "from dotenv import load_dotenv\n",
    "import os\n",
    "from os import environ\n",
    "import openai\n",
    "from icecream import ic\n",
    "from common import simple_chat, show_response_detail\n",
    "\n",
    "# load our environment file\n",
    "load_dotenv()\n",
    "\n",
    "# define our API Key\n",
    "openai.api_key = os.getenv(\"openai_api_key\")"
   ]
  },
  {
   "cell_type": "markdown",
   "metadata": {},
   "source": [
    "# Lab 1 - Jobs to be done #1\n",
    "\n",
    "## Good Use Cases - Summarizing a Message\n",
    "\n",
    "A good job for Generative AI is summarizing text.  Here is a code example of exactly how you can do this with OpenAI.\n",
    "\n",
    "** Notes **\n",
    "\n",
    "1. We are using two different roles to definte the messages.\n",
    "1. The response object contains a lot of interesting information in it."
   ]
  },
  {
   "cell_type": "code",
   "execution_count": 4,
   "metadata": {},
   "outputs": [
    {
     "name": "stderr",
     "output_type": "stream",
     "text": [
      "ic| {response.choices[0].message.role}: {'assistant'}\n",
      "ic| {response.choices[0].message.content}: {'0.0'}\n",
      "ic| {response.usage.prompt_tokens}: {57}\n",
      "ic| {response.usage.completion_tokens}: {3}\n",
      "ic| {response.usage.total_tokens}: {60}\n"
     ]
    }
   ],
   "source": [
    "negative_note = \"\"\"I am really frustrated with the service that you provided.  It isn't like this business is very difficult\n",
    "and yet you seemed to manage to mess it up time and time again.  My day is ruined and my dissapointment is immeasurable.\"\"\"\n",
    "\n",
    "neutral_note = \"\"\"It was OK, I guess.  Not great, not terrible, right down the middle.  Not much to say.\"\"\"\n",
    "\n",
    "positive_note = \"\"\"You guys are absolutely, positively, the best.  I literally could not be happier with the service you\n",
    "have provided and will be back for more.  I am telling all my friends and hope you get rich!\"\"\"\n",
    "\n",
    "# build our messages to send to openAI.  These should be well formed JSON with a ROLE and CONTENT\n",
    "system_message = {\"role\":\"system\", \"content\":\"On a scale of -1 (unhappy) to 1 (happy), rate this customers sentiment.\"}\n",
    "positive_message = {\"role\":\"user\", \"content\": positive_note}\n",
    "neutral_message = {\"role\":\"user\", \"content\": neutral_note}\n",
    "negative_message = {\"role\":\"user\", \"content\": negative_note}\n",
    "\n",
    "# we put these together into a single python list for processing together.\n",
    "messages = [system_message, neutral_message]\n",
    "\n",
    "customer_response = simple_chat(messages=messages)\n",
    "\n",
    "show_response_detail(customer_response)"
   ]
  },
  {
   "cell_type": "markdown",
   "metadata": {},
   "source": [
    "# Lab 1 - Jobs to be done #2\n",
    "\n",
    "## Good Use Cases -  Writing Code\n",
    "\n",
    "A good job for Generative AI is summarizing text.  Here is a code example of exactly how you can do this with OpenAI.\n",
    "\n",
    "** Notes **\n",
    "\n",
    "1. We are using two different roles to definte the messages.\n",
    "1. The response object contains a lot of interesting information in it."
   ]
  },
  {
   "cell_type": "code",
   "execution_count": null,
   "metadata": {},
   "outputs": [],
   "source": [
    "long_message = \"\"\"Jupiter is the fifth planet from the Sun and the largest in the Solar System. It is a gas giant with a mass one-thousandth that of the Sun, but two-and-a-half times that of all the other planets in the Solar System combined. Jupiter is one of the brightest objects visible to the naked eye in the night sky, and has been known to ancient civilizations since before recorded history. It is named after the Roman god Jupiter. When viewed from Earth, Jupiter can be bright enough for its reflected light to cast visible shadows, and is on average the third-brightest natural object in the night sky after the Moon and Venus.\"\"\"\n",
    "\n",
    "# build our messages to send to openAI.  These should be well formed JSON with a ROLE and CONTENT\n",
    "system_message = {\"role\":\"system\", \"content\":\"Summarize content you are provided in 1 sentence.\"}\n",
    "user_message = {\"role\":\"user\", \"content\":long_message}\n",
    "\n",
    "# we put these together into a single python list for processing together.\n",
    "messages = [system_message, user_message]\n",
    "\n",
    "summary_response = simple_chat(messages=messages)\n",
    "\n",
    "show_response_detail(summary_response)"
   ]
  }
 ],
 "metadata": {
  "kernelspec": {
   "display_name": ".venv",
   "language": "python",
   "name": "python3"
  },
  "language_info": {
   "codemirror_mode": {
    "name": "ipython",
    "version": 3
   },
   "file_extension": ".py",
   "mimetype": "text/x-python",
   "name": "python",
   "nbconvert_exporter": "python",
   "pygments_lexer": "ipython3",
   "version": "3.11.5"
  }
 },
 "nbformat": 4,
 "nbformat_minor": 2
}
