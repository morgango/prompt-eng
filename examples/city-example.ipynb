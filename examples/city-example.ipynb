{
 "cells": [
  {
   "cell_type": "markdown",
   "metadata": {},
   "source": [
    "\n",
    "1. Start a vague prompt for information about the city you live in now (or if you prefer, your home town or another town you are attached to.)\n",
    "2. Refine your prompt to include instruction, input data, and context.\n",
    "3. Add \"shots\" for things that you would like the output to focus on.\n",
    "4. Break your instructions down into smaller tasks.\n",
    "5. Give format instructions. If you aren't sure what to do here, just limit the number of sentences or paragraphs.\n",
    "6. Give leading text\n",
    "\n",
    "Experiment with a few features:\n",
    "1. The model.\n",
    "2. The temperature.\n",
    "3. Add an instruction to write for a specific audience (like a second grader.)\n",
    "4. Modify the leading text\n",
    "\n",
    "Try the same process for a different city or location.\n",
    "* What changed and what didn't?  What changed is the context, what didn't is the input data."
   ]
  },
  {
   "cell_type": "code",
   "execution_count": 1,
   "metadata": {},
   "outputs": [
    {
     "ename": "ModuleNotFoundError",
     "evalue": "No module named 'common'",
     "output_type": "error",
     "traceback": [
      "\u001b[0;31m---------------------------------------------------------------------------\u001b[0m",
      "\u001b[0;31mModuleNotFoundError\u001b[0m                       Traceback (most recent call last)",
      "\u001b[1;32m/Users/morgan/Library/CloudStorage/Dropbox/me/prompt-eng/examples/city-example.ipynb Cell 2\u001b[0m line \u001b[0;36m6\n\u001b[1;32m      <a href='vscode-notebook-cell:/Users/morgan/Library/CloudStorage/Dropbox/me/prompt-eng/examples/city-example.ipynb#W1sZmlsZQ%3D%3D?line=3'>4</a>\u001b[0m \u001b[39mimport\u001b[39;00m \u001b[39mopenai\u001b[39;00m\n\u001b[1;32m      <a href='vscode-notebook-cell:/Users/morgan/Library/CloudStorage/Dropbox/me/prompt-eng/examples/city-example.ipynb#W1sZmlsZQ%3D%3D?line=4'>5</a>\u001b[0m \u001b[39mfrom\u001b[39;00m \u001b[39micecream\u001b[39;00m \u001b[39mimport\u001b[39;00m ic\n\u001b[0;32m----> <a href='vscode-notebook-cell:/Users/morgan/Library/CloudStorage/Dropbox/me/prompt-eng/examples/city-example.ipynb#W1sZmlsZQ%3D%3D?line=5'>6</a>\u001b[0m \u001b[39mfrom\u001b[39;00m \u001b[39mcommon\u001b[39;00m \u001b[39mimport\u001b[39;00m simple_chat, show_response_detail\n\u001b[1;32m      <a href='vscode-notebook-cell:/Users/morgan/Library/CloudStorage/Dropbox/me/prompt-eng/examples/city-example.ipynb#W1sZmlsZQ%3D%3D?line=7'>8</a>\u001b[0m \u001b[39m# load our environment file\u001b[39;00m\n\u001b[1;32m      <a href='vscode-notebook-cell:/Users/morgan/Library/CloudStorage/Dropbox/me/prompt-eng/examples/city-example.ipynb#W1sZmlsZQ%3D%3D?line=8'>9</a>\u001b[0m load_dotenv()\n",
      "\u001b[0;31mModuleNotFoundError\u001b[0m: No module named 'common'"
     ]
    }
   ],
   "source": [
    "from dotenv import load_dotenv\n",
    "import os\n",
    "from os import environ\n",
    "import openai\n",
    "from icecream import ic\n",
    "from common import simple_chat, show_response_detail\n",
    "\n",
    "# load our environment file\n",
    "load_dotenv()\n",
    "\n",
    "# define our API Key\n",
    "openai.api_key = os.getenv(\"openai_api_key\")"
   ]
  },
  {
   "cell_type": "markdown",
   "metadata": {},
   "source": [
    "Start a vague prompt for information about the city you live in.  Or, if you prefer, your home town or another area you are attached to."
   ]
  },
  {
   "cell_type": "code",
   "execution_count": null,
   "metadata": {},
   "outputs": [],
   "source": [
    "simple_chat_args = {\n",
    "    'temperature': 0.5,\n",
    "    'model': 'gpt-3.5-turbo',\n",
    "    'max_tokens': 1000,\n",
    "}\n",
    "\n",
    "location = \"Tucson, Arizona\"\n",
    "long_message = f\"\"\"\n",
    "Tell me about {location}.\n",
    "\"\"\"\n",
    "\n",
    "# build our messages to send to openAI.  These should be well formed JSON with a ROLE and CONTENT\n",
    "system_message = {\"role\":\"system\", \"content\":\"You are a helpful assistant.\"}\n",
    "user_message = {\"role\":\"user\", \"content\":long_message}\n",
    "\n",
    "# we put these together into a single python list for processing together.\n",
    "messages = [system_message, user_message]\n",
    "\n",
    "summary_response = simple_chat(messages=messages, **simple_chat_args)\n",
    "\n",
    "show_response_detail(summary_response)"
   ]
  },
  {
   "cell_type": "markdown",
   "metadata": {},
   "source": [
    "Refine your prompt to include instruction, input data, and output format."
   ]
  },
  {
   "cell_type": "code",
   "execution_count": null,
   "metadata": {},
   "outputs": [],
   "source": [
    "simple_chat_args = {\n",
    "    'temperature': 0.5,\n",
    "    'model': 'gpt-3.5-turbo',\n",
    "    'max_tokens': 5000,\n",
    "}\n",
    "\n",
    "location = \"Tucson, Arizona\"\n",
    "\n",
    "long_message = f\"\"\"\n",
    "Tell me about {location}.\n",
    "####\n",
    "- Talk about its founding and history.\n",
    "- Describe the weather, climate, and environment.\n",
    "- Discuss the economy and industry.\n",
    "- Mention the food and cuisine of the area. \n",
    "\n",
    "Give this writeup a title and output the text as a JSON object.\n",
    "\n",
    "\n",
    "\"\"\"\n",
    "\n",
    "# build our messages to send to openAI.  These should be well formed JSON with a ROLE and CONTENT\n",
    "system_message = {\"role\":\"system\", \"content\":\"You are a helpful assistant.\"}\n",
    "user_message = {\"role\":\"user\", \"content\":long_message}\n",
    "\n",
    "# we put these together into a single python list for processing together.\n",
    "messages = [system_message, user_message]\n",
    "\n",
    "summary_response = simple_chat(messages=messages, **simple_chat_args)\n",
    "\n",
    "show_response_detail(summary_response)"
   ]
  },
  {
   "cell_type": "markdown",
   "metadata": {},
   "source": [
    "Put it all together - Instruction, Input Data, Context, and Formatting.\n",
    "- Break your instructions into smaller pieces.\n",
    "- Take a few shots at how you would like things to work.\n",
    "- Give format instructions.\n",
    "- Add leading text.\n",
    "\n",
    "Experiment a few times with different models, temperatures, and max_tokens.  Also, try adjusting the system instructions."
   ]
  },
  {
   "cell_type": "code",
   "execution_count": null,
   "metadata": {},
   "outputs": [],
   "source": [
    "simple_chat_args = {\n",
    "    'temperature': 0.5,\n",
    "    'model': 'gpt-3.5-turbo',\n",
    "    # 'model': 'gpt-4',\n",
    "    'max_tokens': 5000,\n",
    "}\n",
    "\n",
    "location = \"Tucson, Arizona\"\n",
    "\n",
    "long_message = f\"\"\"\n",
    "Tell me about {location}.\n",
    "####\n",
    "- Talk about its founding and history.\n",
    "- Describe the weather, climate, and environment.\n",
    "- Discuss the economy and industry.\n",
    "- Mention the food and cuisine of the area. \n",
    "\n",
    "- Explain the role of the Pima Community College in city life.\n",
    "- Talk about the annual gem and mineral show. \n",
    "\n",
    "University of Arizona: The UofA is a world-class research institution.\n",
    "Davis-Monthan Air Force Base: Has been a part of the countries defense for more than 50 years.\n",
    "Sonroran Hot Dog: A unique dish that blends Mexican and American cuisine in a delicious and unexpected way.\n",
    "\n",
    "Give this writeup a title and output the text as a JSON object.\n",
    "\n",
    "Tucson, Arizona - also known as the Old Pueblo\n",
    "\n",
    "\"\"\"\n",
    "\n",
    "# build our messages to send to openAI.  These should be well formed JSON with a ROLE and CONTENT\n",
    "system_message = {\"role\":\"system\", \"content\":\"You are a helpful assistant.\"}\n",
    "user_message = {\"role\":\"user\", \"content\":long_message}\n",
    "\n",
    "# we put these together into a single python list for processing together.\n",
    "messages = [system_message, user_message]\n",
    "\n",
    "summary_response = simple_chat(messages=messages, **simple_chat_args)\n",
    "\n",
    "show_response_detail(summary_response)"
   ]
  }
 ],
 "metadata": {
  "kernelspec": {
   "display_name": ".venv",
   "language": "python",
   "name": "python3"
  },
  "language_info": {
   "codemirror_mode": {
    "name": "ipython",
    "version": 3
   },
   "file_extension": ".py",
   "mimetype": "text/x-python",
   "name": "python",
   "nbconvert_exporter": "python",
   "pygments_lexer": "ipython3",
   "version": "3.10.11"
  }
 },
 "nbformat": 4,
 "nbformat_minor": 2
}
