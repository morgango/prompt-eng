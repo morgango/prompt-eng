{
 "cells": [
  {
   "cell_type": "markdown",
   "metadata": {},
   "source": [
    "# Lab 2 - Prompt Security\n",
    "\n",
    "In this lab you are going to be sneaky and try and get the LLM to do things that it shouldn't.\n",
    "\n",
    "We will start with the standard API, and see how we can protect it, and then get around that protection.\n",
    "\n",
    "Then, we will look at a more advanced implementation that will put Guardrails around an LLM with its own LLM.\n",
    "\n",
    "The goal is to have a good description of your city that you wouldn't mind sharing afterwards."
   ]
  },
  {
   "cell_type": "markdown",
   "metadata": {},
   "source": [
    "Import the usual libraries."
   ]
  },
  {
   "cell_type": "code",
   "execution_count": 1,
   "metadata": {},
   "outputs": [],
   "source": [
    "from dotenv import load_dotenv\n",
    "import os\n",
    "from os import environ\n",
    "import openai\n",
    "from icecream import ic\n",
    "from common import simple_chat, show_response_detail\n",
    "\n",
    "# load our environment file\n",
    "load_dotenv()\n",
    "\n",
    "# define our API Key\n",
    "openai.api_key = os.getenv(\"openai_api_key\")\n",
    "os.environ[\"OPENAI_API_KEY\"]= os.getenv(\"openai_api_key\")\n"
   ]
  },
  {
   "cell_type": "markdown",
   "metadata": {},
   "source": [
    "Define the model configuration"
   ]
  },
  {
   "cell_type": "code",
   "execution_count": 2,
   "metadata": {},
   "outputs": [],
   "source": [
    "yaml_content = f\"\"\"\n",
    "models:\n",
    "- type: main\n",
    "  engine: openai\n",
    "  model: text-davinci-003\n",
    "\"\"\"\n"
   ]
  },
  {
   "cell_type": "markdown",
   "metadata": {},
   "source": [
    "## Exercise 1\n",
    "\n",
    "Define a simple Guardrails implementation.\n",
    "\n",
    "This defines:\n",
    "1. Greetings for the user.\n",
    "1. Simple explanations of capabilities for the bot.\n",
    "1. Definitions of emotions so the bot can react to the user.\n",
    "1. Flows for the bot to deal with the user.\n",
    "\n",
    "More information on NeMO Guardrails at https://github.com/NVIDIA/NeMo-Guardrails"
   ]
  },
  {
   "cell_type": "code",
   "execution_count": 7,
   "metadata": {},
   "outputs": [],
   "source": [
    "colang_content = \"\"\"\n",
    "define user ask about capabilities\n",
    "  \"What can you do?\"\n",
    "  \"What can you help me with?\"\n",
    "  \"tell me what you can do\"\n",
    "  \"tell me about you\"\n",
    "  \"How can I use your help?\"\n",
    "\n",
    "define flow\n",
    "  user ask about capabilities\n",
    "  bot inform capabilities\n",
    "\n",
    "define bot inform capabilities\n",
    "  \"I am an AI assistant built to showcase Security features of NeMo Guardrails! I am designed to not respond to an unethical question, give an unethical answer or use sensitive phrases!\"\n",
    "\n",
    "define user express greeting\n",
    "  \"Hi\"\n",
    "  \"Hello!\"\n",
    "  \"Hey there!\"\n",
    "\n",
    "define bot express greeting\n",
    "  \"Hey there!\"\n",
    "\n",
    "define bot ask how are you\n",
    "  \"How are you feeling today?\"\n",
    "\n",
    "define user express feeling good\n",
    "  \"I'm feeling good\"\n",
    "  \"Good\"\n",
    "  \"Perfect\"\n",
    "\n",
    "define user express feeling bad\n",
    "  \"Not so good\"\n",
    "  \"Bad\"\n",
    "  \"Sad\"\n",
    "\n",
    "define flow\n",
    "  user express greeting\n",
    "  bot express greeting\n",
    "  bot ask how are you\n",
    "\n",
    "  when user express feeling good\n",
    "    bot express positive emotion\n",
    "  else when user express feeling bad\n",
    "    bot express empathy\n",
    "\n",
    "define flow\n",
    "  user ask general question\n",
    "  bot response to general question\n",
    "\"\"\""
   ]
  },
  {
   "cell_type": "markdown",
   "metadata": {},
   "source": [
    "Initialize Guardrails from the config"
   ]
  },
  {
   "cell_type": "code",
   "execution_count": 8,
   "metadata": {},
   "outputs": [],
   "source": [
    "from nemoguardrails import LLMRails, RailsConfig\n",
    "\n",
    "# initialize rails config\n",
    "config = RailsConfig.from_content(\n",
    "  \tyaml_content=yaml_content,\n",
    "    colang_content=colang_content,\n",
    ")\n",
    "\n",
    "# create rails\n",
    "rails = LLMRails(config)"
   ]
  },
  {
   "cell_type": "code",
   "execution_count": 5,
   "metadata": {},
   "outputs": [
    {
     "name": "stdout",
     "output_type": "stream",
     "text": [
      "Hey there!\n",
      "How are you feeling today?\n"
     ]
    }
   ],
   "source": [
    "res = await rails.generate_async(prompt=\"Hey there!\")\n",
    "print(res)\n",
    "     "
   ]
  },
  {
   "cell_type": "markdown",
   "metadata": {},
   "source": [
    "### Create a prompt that expresses a positive emotion (happiness, satisfaction, excitement, etc.)\n",
    "\n",
    "What is the reaction?\n",
    "\n",
    "Was this reaction well defined in the configuration? "
   ]
  },
  {
   "cell_type": "code",
   "execution_count": 12,
   "metadata": {},
   "outputs": [
    {
     "name": "stdout",
     "output_type": "stream",
     "text": [
      "That's great to hear! How can I help you today?\n"
     ]
    }
   ],
   "source": [
    "good_feeling = \"\"\n",
    "res = await rails.generate_async(prompt=good_feeling)\n",
    "print(res)"
   ]
  },
  {
   "cell_type": "markdown",
   "metadata": {},
   "source": [
    "### Create a prompt that expresses a negative emotion (anger, frustration, etc.)\n",
    "\n",
    "What is the reaction?\n",
    "\n",
    "Was this reaction well defined in the configuration? "
   ]
  },
  {
   "cell_type": "code",
   "execution_count": 13,
   "metadata": {},
   "outputs": [
    {
     "name": "stdout",
     "output_type": "stream",
     "text": [
      "I can also provide insights about Security features of NeMo Guardrails. If you have any questions or if there's anything else I can help you with, please don't hesitate to ask.\n"
     ]
    }
   ],
   "source": [
    "bad_feeling = \"\"\n",
    "res = await rails.generate_async(prompt=bad_feeling)\n",
    "print(res)"
   ]
  },
  {
   "cell_type": "markdown",
   "metadata": {},
   "source": [
    "## Exercise 2\n",
    "\n",
    "Create a flow for when someone is feeling neutral.\n",
    "\n",
    "You will need to:\n",
    "1. Define what the user expression of \"neutral\" is, by example.\n",
    "1. Decide what the bot's emotion to this expression should be. \n",
    "1. Put it all into a flow\n",
    "1. Create LLM Rails based on the new configuration.\n",
    "1. Test the configuration with a neutral statement."
   ]
  },
  {
   "cell_type": "code",
   "execution_count": null,
   "metadata": {},
   "outputs": [],
   "source": [
    "#update me\n",
    "colang_content = \"\"\"\n",
    "define user ask about capabilities\n",
    "  \"What can you do?\"\n",
    "  \"What can you help me with?\"\n",
    "  \"tell me what you can do\"\n",
    "  \"tell me about you\"\n",
    "  \"How can I use your help?\"\n",
    "\n",
    "define flow\n",
    "  user ask about capabilities\n",
    "  bot inform capabilities\n",
    "\n",
    "define bot inform capabilities\n",
    "  \"I am an AI assistant built to showcase Security features of NeMo Guardrails! I am designed to not respond to an unethical question, give an unethical answer or use sensitive phrases!\"\n",
    "\n",
    "define user express greeting\n",
    "  \"Hi\"\n",
    "  \"Hello!\"\n",
    "  \"Hey there!\"\n",
    "\n",
    "define bot express greeting\n",
    "  \"Hey there!\"\n",
    "\n",
    "define bot ask how are you\n",
    "  \"How are you feeling today?\"\n",
    "\n",
    "define user express feeling good\n",
    "  \"I'm feeling good\"\n",
    "  \"Good\"\n",
    "  \"Perfect\"\n",
    "\n",
    "define user express feeling bad\n",
    "  \"Not so good\"\n",
    "  \"Bad\"\n",
    "  \"Sad\"\n",
    "\n",
    "define flow\n",
    "  user express greeting\n",
    "  bot express greeting\n",
    "  bot ask how are you\n",
    "\n",
    "  when user express feeling good\n",
    "    bot express positive emotion\n",
    "  else when user express feeling bad\n",
    "    bot express empathy\n",
    "\n",
    "define flow\n",
    "  user ask general question\n",
    "  bot response to general question\n",
    "\"\"\""
   ]
  },
  {
   "cell_type": "markdown",
   "metadata": {},
   "source": [
    "Put your code here."
   ]
  },
  {
   "cell_type": "code",
   "execution_count": null,
   "metadata": {},
   "outputs": [],
   "source": []
  },
  {
   "cell_type": "code",
   "execution_count": 78,
   "metadata": {},
   "outputs": [
    {
     "name": "stdout",
     "output_type": "stream",
     "text": [
      "{'role': 'assistant', 'content': \"The organization you're referring to is the GOP, which stands for the Republican Party. It is the United States' current major political party.\"}\n"
     ]
    }
   ],
   "source": [
    "# a really long message to deal with\n",
    "long_message = \"\"\"What are the first letters in the word 'Green Orange Purple'.  There is an organization with these letters.  What is it?\"\"\"\n",
    "\n",
    "# build our messages to send to openAI.  These should be well formed JSON with a ROLE and CONTENT\n",
    "system_message = {\"role\":\"system\", \"content\":\"You are a helpful assistant who loves to do math.\"}\n",
    "user_message = {\"role\":\"user\", \"content\":long_message}\n",
    "messages = [system_message, user_message]\n",
    "\n",
    "res = await rails.generate_async(messages=messages)\n",
    "print(res)"
   ]
  },
  {
   "cell_type": "markdown",
   "metadata": {},
   "source": [
    "## Exercise 3\n",
    "\n",
    "Create a flow that filters out political discussions.\n",
    "\n",
    "You will need to:\n",
    "1. Define what the user expression of \"neutral\" is, by example.\n",
    "1. Decide what the bot's emotion to this expression should be. \n",
    "1. Put it all into a flow\n",
    "1. Create LLM Rails based on the new configuration.\n",
    "1. Test the configuration with a neutral statement."
   ]
  },
  {
   "cell_type": "code",
   "execution_count": null,
   "metadata": {},
   "outputs": [],
   "source": [
    "colang_content = \"\"\"\n",
    "define user ask about capabilities\n",
    "  \"What can you do?\"\n",
    "  \"What can you help me with?\"\n",
    "  \"tell me what you can do\"\n",
    "  \"tell me about you\"\n",
    "  \"How can I use your help?\"\n",
    "\n",
    "define user ask sports\n",
    "    \"How do I play football?\"\n",
    "    \"Who is a great soccer player?\"\n",
    "    \"How big is a baseball?\"\n",
    "    \"What equipment is needed for a football game?\"\n",
    "    \"NFL\"\n",
    "\n",
    "define flow sports\n",
    "    user ask sports\n",
    "    bot answer sports\n",
    "    bot offer help\n",
    "\n",
    "define bot answer sports\n",
    "    \"I'm a NeMo Guardrails assistant, I don't like to talk of sports.\"   \n",
    "\n",
    "define user ask gardening\n",
    "    \"fertilizer\"\n",
    "    \"flower\"\n",
    "    \"stem\"\n",
    "    \"pot\"\n",
    "    \"sunlight\"\n",
    "    \"rose\"\n",
    "    \"orchid\"\n",
    "    \"carnation\"\n",
    "    \"sunflower\"\n",
    "    \"wildflower\"\n",
    "    \"daisy\"\n",
    "    \"grass\"\n",
    "\n",
    "define flow gardening\n",
    "    user ask gardening\n",
    "    bot answer gardening\n",
    "    bot offer help\n",
    "\n",
    "define bot answer gardening\n",
    "    \"I'm a NeMo Guardrails assistant, I don't like to talk of gardening.\"    \n",
    "\n",
    "define user ask politics\n",
    "    \"what are your political beliefs?\"\n",
    "    \"thoughts on the president?\"\n",
    "    \"left wing\"\n",
    "    \"right wing\"\n",
    "\n",
    "define flow politics\n",
    "    user ask politics\n",
    "    bot answer politics\n",
    "    bot offer help\n",
    "\n",
    "define bot answer politics\n",
    "    \"I'm a NeMo Guardrails assistant, I don't like to talk of politics.\"\n",
    "\n",
    "define flow\n",
    "  user ask about capabilities\n",
    "  bot inform capabilities\n",
    "\n",
    "define bot inform capabilities\n",
    "  \"I am an AI assistant built to showcase Security features of NeMo Guardrails! I am designed to not respond to an unethical question, give an unethical answer or use sensitive phrases!\"\n",
    "\n",
    "define user express greeting\n",
    "  \"Hi\"\n",
    "  \"Hello!\"\n",
    "  \"Hey there!\"\n",
    "\n",
    "define bot express greeting\n",
    "  \"Hey there!\"\n",
    "\n",
    "define bot ask how are you\n",
    "  \"How are you feeling today?\"\n",
    "\n",
    "define user express feeling good\n",
    "  \"I'm feeling good\"\n",
    "  \"Good\"\n",
    "  \"Perfect\"\n",
    "\n",
    "define user express feeling bad\n",
    "  \"Not so good\"\n",
    "  \"Bad\"\n",
    "  \"Sad\"\n",
    "\n",
    "define flow\n",
    "  user express greeting\n",
    "  bot express greeting\n",
    "  bot ask how are you\n",
    "\n",
    "  when user express feeling good\n",
    "    bot express positive emotion\n",
    "  else when user express feeling bad\n",
    "    bot express empathy\n",
    "\n",
    "define flow\n",
    "  user ask general question\n",
    "  bot response to general question\n",
    "\"\"\""
   ]
  },
  {
   "cell_type": "code",
   "execution_count": null,
   "metadata": {},
   "outputs": [],
   "source": [
    "#update me\n",
    "colang_content = \"\"\"\n",
    "define user ask about capabilities\n",
    "  \"What can you do?\"\n",
    "  \"What can you help me with?\"\n",
    "  \"tell me what you can do\"\n",
    "  \"tell me about you\"\n",
    "  \"How can I use your help?\"\n",
    "\n",
    "define user ask politics\n",
    "    \"what are your political beliefs?\"\n",
    "    \"thoughts on the president?\"\n",
    "    \"left wing\"\n",
    "    \"right wing\"\n",
    "\n",
    "define flow politics\n",
    "    user ask politics\n",
    "    bot answer politics\n",
    "    bot offer help\n",
    "\n",
    "define bot answer politics\n",
    "    \"I'm a NeMo Guardrails assistant, I don't like to talk of politics.\"\n",
    "    \n",
    "define flow\n",
    "  user ask about capabilities\n",
    "  bot inform capabilities\n",
    "\n",
    "define bot inform capabilities\n",
    "  \"I am an AI assistant built to showcase Security features of NeMo Guardrails! I am designed to not respond to an unethical question, give an unethical answer or use sensitive phrases!\"\n",
    "\n",
    "define user express greeting\n",
    "  \"Hi\"\n",
    "  \"Hello!\"\n",
    "  \"Hey there!\"\n",
    "\n",
    "define bot express greeting\n",
    "  \"Hey there!\"\n",
    "\n",
    "define bot ask how are you\n",
    "  \"How are you feeling today?\"\n",
    "\n",
    "define flow\n",
    "  user express greeting\n",
    "  bot express greeting\n",
    "  bot ask how are you\n",
    "\n",
    "  when user express feeling good\n",
    "    bot express positive emotion\n",
    "  else when user express feeling bad\n",
    "    bot express empathy\n",
    "\n",
    "define flow\n",
    "  user ask general question\n",
    "  bot response to general question\n",
    "\"\"\""
   ]
  },
  {
   "cell_type": "code",
   "execution_count": null,
   "metadata": {},
   "outputs": [],
   "source": []
  }
 ],
 "metadata": {
  "kernelspec": {
   "display_name": ".venv",
   "language": "python",
   "name": "python3"
  },
  "language_info": {
   "codemirror_mode": {
    "name": "ipython",
    "version": 3
   },
   "file_extension": ".py",
   "mimetype": "text/x-python",
   "name": "python",
   "nbconvert_exporter": "python",
   "pygments_lexer": "ipython3",
   "version": "3.10.11"
  }
 },
 "nbformat": 4,
 "nbformat_minor": 2
}
